{
 "cells": [
  {
   "cell_type": "markdown",
   "metadata": {},
   "source": [
    "**Project Name**: Snake\n",
    "\n",
    "**Description**: Make your robot slither like a snake and make noise.\n",
    "\n",
    "Project inspired and code written by Chris Rogers "
   ]
  },
  {
   "cell_type": "markdown",
   "metadata": {},
   "source": [
    "Requirements:\n",
    "Your \"snake\" must in some way move forward, turn, make a sound, and change colors at least twice."
   ]
  },
  {
   "cell_type": "markdown",
   "metadata": {},
   "source": [
    "Task 1:\n",
    "    Draw a map of how your \"snake\" will move **before** you write code (how far it will drive forward and when it turns).\n",
    "    On your map, indicate where it will change color (and to what color), and where it will beep.\n",
    "    \n",
    "Task 2:\n",
    "    Write code that follows your map exactly."
   ]
  },
  {
   "cell_type": "code",
   "execution_count": null,
   "metadata": {},
   "outputs": [],
   "source": [
    "# Project Template\n",
    "from Subs.CreateLib import Create\n",
    "\n",
    "MyCreate = Create('/yourCreate')\n",
    "\n",
    "# add your code here\n",
    "MyCreate.close()"
   ]
  },
  {
   "cell_type": "markdown",
   "metadata": {},
   "source": [
    "Reflections:\n",
    "\n",
    "(answer here)"
   ]
  },
  {
   "cell_type": "markdown",
   "metadata": {},
   "source": [
    "How does this connect to your individual work?\n",
    "\n",
    "(answer here)"
   ]
  }
 ],
 "metadata": {
  "kernelspec": {
   "display_name": "Python 3",
   "language": "python",
   "name": "python3"
  },
  "language_info": {
   "codemirror_mode": {
    "name": "ipython",
    "version": 3
   },
   "file_extension": ".py",
   "mimetype": "text/x-python",
   "name": "python",
   "nbconvert_exporter": "python",
   "pygments_lexer": "ipython3",
   "version": "3.7.4"
  }
 },
 "nbformat": 4,
 "nbformat_minor": 4
}
