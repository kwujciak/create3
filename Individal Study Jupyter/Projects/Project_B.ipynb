{
 "cells": [
  {
   "cell_type": "markdown",
   "metadata": {},
   "source": [
    "**Project Name**: Hide and Seek\n",
    "\n",
    "**Description**: Connect a smartphone to your robot and drive it around via teleop to find your partner in the building.\n",
    "\n",
    "Project inspired and code written by Chris Rogers and create3_examples"
   ]
  },
  {
   "cell_type": "markdown",
   "metadata": {},
   "source": [
    "Requirements:\n",
    "    Phone must be connected to the robot with 3D printed or laser-cut materials."
   ]
  },
  {
   "cell_type": "markdown",
   "metadata": {},
   "source": [
    "Task 1:\n",
    "    Build a holder for your phone.\n",
    "    \n",
    "Task 2:\n",
    "    Connect to the robot and have one partner hide and one partner seek."
   ]
  },
  {
   "cell_type": "code",
   "execution_count": null,
   "metadata": {},
   "outputs": [],
   "source": [
    "%%writefile TeleOp.py\n",
    "\n",
    "# Edited from https://github.com/iRobotEducation/create3_examples\n",
    "\n",
    "import sys\n",
    "\n",
    "import termios\n",
    "import tty\n",
    "from Subs.CreateLib import Create\n",
    "\n",
    "msg = '''\n",
    "---------------------------\n",
    "Moving around:\n",
    "   u    i    o\n",
    "   j    k    l\n",
    "   m    ,    .\n",
    "\n",
    "anything else : stop\n",
    "\n",
    "CTRL-C to quit\n",
    "'''\n",
    "\n",
    "moveOptions = {  #  x, y, z velocity, angle velocity (radians/sec)\n",
    "    'u': (1, 0, 0, 1),\n",
    "    'i': (1, 0, 0, 0),\n",
    "    'o': (1, 0, 0, -1),\n",
    "    \n",
    "    'j': (0, 0, 0, 1),\n",
    "    'l': (0, 0, 0, -1),\n",
    "\n",
    "    'm': (-1, 0, 0, -1),  \n",
    "    ',': (-1, 0, 0, 0),\n",
    "    '.': (-1, 0, 0, 1),\n",
    "}\n",
    "\n",
    "def getKey(settings):\n",
    "    tty.setraw(sys.stdin.fileno())\n",
    "    # sys.stdin.read() returns a string on Linux\n",
    "    key = sys.stdin.read(1)\n",
    "    termios.tcsetattr(sys.stdin, termios.TCSADRAIN, settings)\n",
    "    return key\n",
    "\n",
    "def saveTerminalSettings():\n",
    "    return termios.tcgetattr(sys.stdin)\n",
    "\n",
    "def restoreTerminalSettings(old_settings):\n",
    "    termios.tcsetattr(sys.stdin, termios.TCSADRAIN, old_settings)\n",
    "\n",
    "def main():\n",
    "    settings = saveTerminalSettings()\n",
    "    motion = Create('/rogers')\n",
    "\n",
    "    speed = 0.5\n",
    "    turn = 1.0\n",
    "    (x, y, z, th) = (0.0,0.0,0.0,0.0)\n",
    "\n",
    "    try:\n",
    "        print(msg)\n",
    "        print('currently:  speed %s  turn %s ' % (speed, turn))\n",
    "        \n",
    "        while True:\n",
    "            key = getKey(settings)\n",
    "            if key in moveOptions.keys():\n",
    "                x = moveOptions[key][0]\n",
    "                y = moveOptions[key][1]\n",
    "                z = moveOptions[key][2]\n",
    "                th = moveOptions[key][3]\n",
    "                \n",
    "                motion.twist(x, y, z, th, speed, turn)\n",
    "                \n",
    "            else:\n",
    "                (x, y, z, th) = (0.0,0.0,0.0,0.0)\n",
    "                if (key == '\\x03'):\n",
    "                    break\n",
    "                    \n",
    "    except Exception as e:\n",
    "        print(e)\n",
    "\n",
    "    finally:\n",
    "        motion.twist(0.0, 0.0, 0.0, 0.0, 0.5, 1.0)\n",
    "        restoreTerminalSettings(settings)\n",
    "\n",
    "if __name__ == '__main__':\n",
    "    main()"
   ]
  },
  {
   "cell_type": "markdown",
   "metadata": {},
   "source": [
    "Reflections:\n",
    "\n",
    "(answer here)"
   ]
  },
  {
   "cell_type": "markdown",
   "metadata": {},
   "source": [
    "How does this connect to your individual work?\n",
    "\n",
    "(answer here)"
   ]
  }
 ],
 "metadata": {
  "kernelspec": {
   "display_name": "Python 3",
   "language": "python",
   "name": "python3"
  },
  "language_info": {
   "codemirror_mode": {
    "name": "ipython",
    "version": 3
   },
   "file_extension": ".py",
   "mimetype": "text/x-python",
   "name": "python",
   "nbconvert_exporter": "python",
   "pygments_lexer": "ipython3",
   "version": "3.7.4"
  }
 },
 "nbformat": 4,
 "nbformat_minor": 4
}
