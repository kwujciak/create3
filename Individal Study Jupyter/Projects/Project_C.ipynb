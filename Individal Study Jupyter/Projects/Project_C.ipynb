{
 "cells": [
  {
   "cell_type": "markdown",
   "metadata": {},
   "source": [
    "**Project Name**: Sunglasses\n",
    "\n",
    "**Description**: When your robot goes \"outside,\" it will put on sunglasses using a microprocessor coded in micropython. \n",
    "\n",
    "Project inspired and code written by Chris Rogers"
   ]
  },
  {
   "cell_type": "markdown",
   "metadata": {},
   "source": [
    "Requirements:\n",
    "    Your sunglasses must be laser-cut. They should be \"put on\" your robot using a motor and light sensor that are\n",
    "    connected to a microprocessor. When the light sensor is activated, a motor moves the sunglasses such that they are now\n",
    "    on your robot."
   ]
  },
  {
   "cell_type": "markdown",
   "metadata": {},
   "source": [
    "Task 1:\n",
    "    Laser cut sunglasses.\n",
    "    \n",
    "Task 2:\n",
    "    Write code that talks to the Create and tells the microprocessor to move the motor based on the lightsensor. "
   ]
  },
  {
   "cell_type": "code",
   "execution_count": null,
   "metadata": {},
   "outputs": [],
   "source": [
    "# Project Template\n",
    "\n",
    "from Subs.CreateLib import Create\n",
    "import time\n",
    "\n",
    "\n",
    "CREATE_IP = \"192.168.86.31\"\n",
    "CREATE_PORT = 8883\n",
    "\n",
    "code = '''\n",
    "import time\n",
    "\n",
    "def MakerPi():\n",
    "    for i in range(10):\n",
    "        print(i)\n",
    "        time.sleep(1)\n",
    "        \n",
    "MakerPi()\n",
    "'''\n",
    "\n",
    "def main():\n",
    "    MyCreate = Create('/[namespace]')\n",
    "    MyCreate.serial_init(CREATE_IP, CREATE_PORT, 1)\n",
    "    MyCreate.serial_abort() # stop any program that is running\n",
    "    MyCreate.serial_write('2 + 2 \\r\\n') # direct command\n",
    "    print(MyCreate.serial_read())\n",
    "    MyCreate.serial_run(code)    # download and run a code\n",
    "    print(MyCreate.serial_read())\n",
    "    try:\n",
    "        for i in range(10):\n",
    "            time.sleep(1)\n",
    "            print('iteration %d, read %s' % (i,MyCreate.serial_read()))\n",
    "    except Exception as e:\n",
    "        print(e)\n",
    "    MyCreate.serial_abort()\n",
    "    MyCreate.serial_close()\n",
    "    MyCreate.close()\n",
    "    print('done')\n",
    "        \n",
    "main()"
   ]
  },
  {
   "cell_type": "markdown",
   "metadata": {},
   "source": [
    "Reflections:\n",
    "    \n",
    "(answer here)"
   ]
  },
  {
   "cell_type": "markdown",
   "metadata": {},
   "source": [
    "How does this connect to your individual work?\n",
    "\n",
    "(answer here)"
   ]
  }
 ],
 "metadata": {
  "kernelspec": {
   "display_name": "Python 3",
   "language": "python",
   "name": "python3"
  },
  "language_info": {
   "codemirror_mode": {
    "name": "ipython",
    "version": 3
   },
   "file_extension": ".py",
   "mimetype": "text/x-python",
   "name": "python",
   "nbconvert_exporter": "python",
   "pygments_lexer": "ipython3",
   "version": "3.7.4"
  }
 },
 "nbformat": 4,
 "nbformat_minor": 4
}
