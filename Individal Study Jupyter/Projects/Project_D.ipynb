{
 "cells": [
  {
   "cell_type": "markdown",
   "metadata": {},
   "source": [
    "**Project Name**: Create Control\n",
    "\n",
    "**Description**: Control your Create using multiple methods. Your robot will have to go through an obstacle course and you can only control it with your hands. For example, to go forward you may hit the right bumper. To turn 180 degrees you may trigger a light sensor.\n",
    "\n",
    "Project inspired and code written by Chris Rogers"
   ]
  },
  {
   "cell_type": "markdown",
   "metadata": {},
   "source": [
    "Requirements:\n",
    "    Your code must be written in ROS 2. You must use a microprocessor. You must use the sensors on the robot. There will\n",
    "    a complex obstacle course and you have to use at least four methods to navigate through the course (e.g. right bumper,\n",
    "    left bumper, light sensor, button)."
   ]
  },
  {
   "cell_type": "markdown",
   "metadata": {},
   "source": [
    "Task 1:\n",
    "    Laser cut or 3D print necessary accessories.\n",
    "    \n",
    "Task 2:\n",
    "    Write code helps the robot navigate through the course. "
   ]
  },
  {
   "cell_type": "code",
   "execution_count": null,
   "metadata": {},
   "outputs": [],
   "source": [
    "# input code here"
   ]
  },
  {
   "cell_type": "markdown",
   "metadata": {},
   "source": [
    "Reflections:\n",
    "    \n",
    "(answer here)"
   ]
  },
  {
   "cell_type": "markdown",
   "metadata": {},
   "source": [
    "How does this connect to your individual work?\n",
    "\n",
    "(answer here)"
   ]
  }
 ],
 "metadata": {
  "kernelspec": {
   "display_name": "Python 3",
   "language": "python",
   "name": "python3"
  },
  "language_info": {
   "codemirror_mode": {
    "name": "ipython",
    "version": 3
   },
   "file_extension": ".py",
   "mimetype": "text/x-python",
   "name": "python",
   "nbconvert_exporter": "python",
   "pygments_lexer": "ipython3",
   "version": "3.7.4"
  }
 },
 "nbformat": 4,
 "nbformat_minor": 4
}
