{
 "cells": [
  {
   "cell_type": "markdown",
   "metadata": {},
   "source": [
    "**Control**\n",
    "\n",
    "Inspired and partially written by Chris Rogers."
   ]
  },
  {
   "cell_type": "markdown",
   "metadata": {},
   "source": [
    "**Part 1**"
   ]
  },
  {
   "cell_type": "markdown",
   "metadata": {},
   "source": [
    "What have you learned so far?\n",
    "\n",
    "(answer here)"
   ]
  },
  {
   "cell_type": "markdown",
   "metadata": {},
   "source": [
    "What does it mean to publish something? What does it mean to subscribe to something?\n",
    "\n",
    "(answer here)"
   ]
  },
  {
   "cell_type": "markdown",
   "metadata": {},
   "source": [
    "Draw another concept map. Compare it to the one you drew in the \"planning\" stage."
   ]
  },
  {
   "cell_type": "markdown",
   "metadata": {},
   "source": [
    "We're now going to write a script in rclpy (ROS client library python). First up, let's write a publisher piece by piece."
   ]
  },
  {
   "cell_type": "markdown",
   "metadata": {},
   "source": [
    "Explain what this block means and why we need it.\n",
    "\n",
    "(answer)"
   ]
  },
  {
   "cell_type": "code",
   "execution_count": null,
   "metadata": {},
   "outputs": [],
   "source": [
    "# Part A ----------------------\n",
    "import rclpy\n",
    "from rclpy.node import Node\n",
    "\n",
    "from std_msgs.msg import String\n",
    "# -----------------------------"
   ]
  },
  {
   "cell_type": "markdown",
   "metadata": {},
   "source": [
    "Explain the block below and what it might be doing.\n",
    "\n",
    "(answer)"
   ]
  },
  {
   "cell_type": "code",
   "execution_count": null,
   "metadata": {},
   "outputs": [],
   "source": [
    "# Part B ----------------------\n",
    "class MinimalPublisher(Node):\n",
    "\n",
    "    def __init__(self):  \n",
    "        super().__init__('PublisherNode')\n",
    "        #------#\n",
    "\n",
    "    def timer_callback(self):\n",
    "        msg = String()\n",
    "        self.publisher_.publish(msg)\n",
    "        #-----#\n",
    "# ------------------------------"
   ]
  },
  {
   "cell_type": "markdown",
   "metadata": {},
   "source": [
    "Explain the block below and what it might be doing.\n",
    "\n",
    "(answer)"
   ]
  },
  {
   "cell_type": "code",
   "execution_count": null,
   "metadata": {},
   "outputs": [],
   "source": [
    "# Part C -----------------------\n",
    "def main():\n",
    "    rclpy.init()\n",
    "\n",
    "    chatter = MinimalPublisher()\n",
    "\n",
    "    try:\n",
    "        rclpy.spin(chatter)\n",
    "        # stay here forever, publishing strings\n",
    "    except:\n",
    "        chatter.destroy_node()\n",
    "        rclpy.shutdown()\n",
    "        print('Done')\n",
    "\n",
    "if __name__ == '__main__':\n",
    "    main()\n",
    "\n",
    "# ------------------------------"
   ]
  },
  {
   "cell_type": "markdown",
   "metadata": {},
   "source": [
    "Using what you learned above, fill in the blanks in the publisher code below."
   ]
  },
  {
   "cell_type": "code",
   "execution_count": null,
   "metadata": {},
   "outputs": [],
   "source": [
    "# publisher example\n",
    "# edited from Chris Rogers\n",
    "\n",
    "import rclpy\n",
    "from rclpy.node import Node\n",
    "\n",
    "from std_msgs.msg import String\n",
    "\n",
    "class MinimalPublisher(Node):\n",
    "\n",
    "    def __init__(self):  \n",
    "        # initialize the topic (name it, create the publisher and publishing rate)\n",
    "        super().__init__('PublisherNode')\n",
    "        queue_size = 10\n",
    "        self.publisher_ = self.create_publisher(String, '# input what you want to publish here #', {input queue size here})  \n",
    "        timer_period = {input a number of seconds}\n",
    "        self.timer = self.create_timer({input timer_period variable here}, self.timer_callback)\n",
    "        self.i = 0\n",
    "\n",
    "    def timer_callback(self):\n",
    "        # every interval, create and publish a string\n",
    "        msg = String()\n",
    "        msg.data = 'Hi: %d' % self.i\n",
    "        self.publisher_.publish({we want to publish 'msg', so what do we input here?})\n",
    "        self.get_logger().info('Publishing: \"%s\"' % msg.data)  # prints to console / log\n",
    "        self.i += 1\n",
    "\n",
    "def main():\n",
    "    rclpy.init()\n",
    "\n",
    "    chatter = {input the name of the class above} \n",
    "\n",
    "    try:\n",
    "        rclpy.spin(chatter)\n",
    "        \n",
    "    except:\n",
    "        chatter.destroy_node()\n",
    "        rclpy.shutdown()\n",
    "        {add a print statement to indicate you're done}\n",
    "\n",
    "if __name__ == '__main__':\n",
    "    {input the name of the main function here}"
   ]
  },
  {
   "cell_type": "markdown",
   "metadata": {},
   "source": [
    "How is this similar to the CLI publishing commands?\n",
    "\n",
    "(answer here)"
   ]
  },
  {
   "cell_type": "markdown",
   "metadata": {},
   "source": [
    "Using what you learned above, fill in the blanks in the subscriber code below."
   ]
  },
  {
   "cell_type": "code",
   "execution_count": null,
   "metadata": {},
   "outputs": [],
   "source": [
    "# subscriber example\n",
    "# edited from Chris Rogers\n",
    "\n",
    "import rclpy\n",
    "from rclpy.node import Node\n",
    "\n",
    "from std_msgs.msg import String\n",
    "\n",
    "\n",
    "class MinimalSubscriber(Node):\n",
    "\n",
    "    def __init__(self):\n",
    "        super().__init__('SubscriberNode')\n",
    "        self.subscription = { based on the publish code, what would go here? }(String,'chatter',self.listener_callback,10)\n",
    "        self.subscription  # prevent unused variable warning\n",
    "\n",
    "    def listener_callback(self, msg):\n",
    "        self.get_logger().info('I heard: \"%s\"' % msg.data)\n",
    "\n",
    "def main():\n",
    "    rclpy.init()\n",
    "    chatter =  {input name of above class}\n",
    "\n",
    "    try:\n",
    "        print('spinning up chatter')\n",
    "        rclpy.spin({what should it spin?})\n",
    "\n",
    "    except Exception as e:\n",
    "        print(e)\n",
    "        chatter.destroy_node()\n",
    "        rclpy.shutdown()\n",
    "        print('Done')\n",
    "\n",
    "if __name__ == '__main__':\n",
    "    main()"
   ]
  },
  {
   "cell_type": "markdown",
   "metadata": {},
   "source": [
    "**Part 2**"
   ]
  },
  {
   "cell_type": "markdown",
   "metadata": {},
   "source": [
    "Now that you have a basic understanding of ROS publishers and subscribers, let's take a look at one that relates to the robot. Wherever you see {---}, that means fill in the blank. Use what you learned in the script above. That will help!"
   ]
  },
  {
   "cell_type": "code",
   "execution_count": null,
   "metadata": {},
   "outputs": [],
   "source": [
    "# edited from Chris Rogers\n",
    "\n",
    "import rclpy\n",
    "from rclpy.node import Node\n",
    "import time, os\n",
    "\n",
    "from rclpy.qos import qos_profile_sensor_data\n",
    "from sensor_msgs.msg import BatteryState\n",
    "\n",
    "class Battery(Node):\n",
    "    '''\n",
    "    Set up a node that lets you subscribe to the battery level\n",
    "    '''\n",
    "    def __init__(self, namespace = '/your_namespace'):   \n",
    "        '''\n",
    "        define the node and set up the subscriber\n",
    "        '''\n",
    "        {---}('battery_subscription') #name it anything you want - this is what will appear in the ros topic list\n",
    "        \n",
    "        {---} = {---}(BatteryState, namespace + '{what is the battery state topic called?}', {---}, qos_profile_sensor_data)\n",
    "        self.done = False\n",
    "        \n",
    "    def listener_callback(self, msg: BatteryState):\n",
    "        self.charge = 100*msg.percentage\n",
    "        self.done = True   # tell the parent program you are done - you have data\n",
    "\n",
    "os.environ['ROS_DOMAIN_ID'] = \"0\"\n",
    "create = '/your_namespace'\n",
    "\n",
    "rclpy.init()\n",
    "battery_subscriber = Battery(create)\n",
    "rclpy.spin_once({---})  # start it up once\n",
    "\n",
    "while not battery_subscriber.done:  # keep running until you get a result\n",
    "    print('...', end = '')\n",
    "    rclpy.spin_once({---})\n",
    "\n",
    "print('%s battery at %0.1f ' % (create, battery_subscriber.charge))\n",
    "\n",
    "rclpy.shutdown()   # shut everything down"
   ]
  },
  {
   "cell_type": "markdown",
   "metadata": {},
   "source": [
    "Now let's write a script that subscribes to the infrared sensor. Look closely at the script you wrote for the battery.\n",
    "Hint: Find the IR sensor topic by running a topic list."
   ]
  },
  {
   "cell_type": "code",
   "execution_count": null,
   "metadata": {},
   "outputs": [],
   "source": [
    "input code here"
   ]
  }
 ],
 "metadata": {
  "kernelspec": {
   "display_name": "Python 3",
   "language": "python",
   "name": "python3"
  },
  "language_info": {
   "codemirror_mode": {
    "name": "ipython",
    "version": 3
   },
   "file_extension": ".py",
   "mimetype": "text/x-python",
   "name": "python",
   "nbconvert_exporter": "python",
   "pygments_lexer": "ipython3",
   "version": "3.7.4"
  }
 },
 "nbformat": 4,
 "nbformat_minor": 4
}
